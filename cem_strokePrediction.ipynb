{
 "cells": [
  {
   "cell_type": "code",
   "id": "initial_id",
   "metadata": {
    "collapsed": true,
    "ExecuteTime": {
     "end_time": "2025-05-26T11:42:50.722858Z",
     "start_time": "2025-05-26T11:42:50.717316Z"
    }
   },
   "source": [
    "import tensorflow as tf\n",
    "tf.compat.v1.disable_eager_execution()\n",
    "from sklearn.model_selection import train_test_split\n",
    "from sklearn.preprocessing import StandardScaler\n",
    "from imblearn.over_sampling import SMOTE\n",
    "import matplotlib.pyplot as plt\n",
    "import pandas as pd\n",
    "import numpy as np\n",
    "#models\n",
    "from sklearn.ensemble import RandomForestClassifier\n",
    "from sklearn import svm\n",
    "from xgboost import XGBClassifier\n",
    "from sklearn.ensemble import AdaBoostClassifier\n",
    "from sklearn.neural_network import MLPClassifier\n",
    "\n",
    "import alibi\n",
    "print(alibi.__version__)\n",
    "from alibi.explainers import CEM"
   ],
   "outputs": [
    {
     "name": "stdout",
     "output_type": "stream",
     "text": [
      "0.9.6\n"
     ]
    }
   ],
   "execution_count": 19
  },
  {
   "metadata": {
    "ExecuteTime": {
     "end_time": "2025-05-26T11:42:50.872992Z",
     "start_time": "2025-05-26T11:42:50.802012Z"
    }
   },
   "cell_type": "code",
   "source": [
    "df = pd.read_csv('healthcare-dataset-stroke-data.csv', sep=',', header=0)\n",
    "feature_names = df.columns.tolist()\n",
    "df = df.dropna(subset=['bmi']).reset_index(drop=True)\n",
    "\n",
    "X = df.drop(['id','stroke'], axis=1)\n",
    "y = df['stroke']\n",
    "\n",
    "X['gender'] = X['gender'].map({'Female': 0, 'Male': 1, 'Other': 2})\n",
    "X['ever_married'] = X['ever_married'].map({'No': 0, 'Yes': 1})\n",
    "X['work_type'] = X['work_type'].map({'Private': 0, 'Self-employed': 1, 'Govt_job': 2, 'children': 3, 'Never_worked': 4})\n",
    "X['Residence_type'] = X['Residence_type'].map({'Urban': 0, 'Rural': 1})\n",
    "X['smoking_status'] = X['smoking_status'].map({'never smoked': 0, 'formerly smoked': 1, 'smokes': 2, 'Unknown' : 3})\n",
    "\n",
    "X_train, X_test, y_train, y_test = train_test_split(X, y, test_size=0.2, random_state=42)\n",
    "numerical_columns = ['age', 'avg_glucose_level', 'bmi']\n",
    "\n",
    "scaler = StandardScaler()\n",
    "X_train_scaled = X_train.copy()\n",
    "X_test_scaled = X_test.copy()\n",
    "\n",
    "X_train_scaled[numerical_columns] = scaler.fit_transform(X_train[numerical_columns])\n",
    "X_test_scaled[numerical_columns] = scaler.transform(X_test[numerical_columns])\n",
    "\n",
    "smote = SMOTE(random_state=42)\n",
    "X_train_res, y_train_res = smote.fit_resample(X_train_scaled, y_train)\n",
    "X_test_res, y_test_res = smote.fit_resample(X_test_scaled, y_test)\n"
   ],
   "id": "67ebc8d7d930d5e3",
   "outputs": [],
   "execution_count": 20
  },
  {
   "metadata": {
    "ExecuteTime": {
     "end_time": "2025-05-26T11:42:50.924587Z",
     "start_time": "2025-05-26T11:42:50.911779Z"
    }
   },
   "cell_type": "code",
   "source": [
    "def get_models():\n",
    "    return {\n",
    "        \"RandomForest\": lambda: RandomForestClassifier(n_estimators=100, max_depth=5, random_state=42),\n",
    "        \"XGBoost\": lambda: XGBClassifier(n_estimators=2, max_depth=2, learning_rate=1, objective='binary:logistic'),\n",
    "        \"AdaBoost\": lambda: AdaBoostClassifier(n_estimators=100),\n",
    "        \"SVM\": lambda: svm.SVC(kernel='linear', probability=True, random_state=42, class_weight='balanced'),\n",
    "        \"MLP\": lambda: MLPClassifier(hidden_layer_sizes=(50,), activation='relu', solver='adam', alpha=0.01, learning_rate_init=0.001,\n",
    "                        max_iter=2000, random_state=42, early_stopping=True)\n",
    "    }\n",
    "\n",
    "def apply_cem(instance: np.ndarray, predict_fn, X_train_res) -> np.ndarray:\n",
    "    cem = CEM(\n",
    "        predict_fn,\n",
    "        mode='PN',\n",
    "        shape=instance.shape,\n",
    "        kappa=0.2,\n",
    "        beta=0.01,\n",
    "        gamma=0.0,\n",
    "        c_init=10.0,\n",
    "        c_steps=10,\n",
    "        max_iterations=1000,\n",
    "        feature_range=(X_train_res.min(axis=0), X_train_res.max(axis=0)),\n",
    "        clip=(X_train_res.min(axis=0), X_train_res.max(axis=0)),\n",
    "        learning_rate_init=1e-2\n",
    "    )\n",
    "    cem.fit(instance)\n",
    "    explanation = cem.explain(instance)\n",
    "\n",
    "    return explanation\n",
    "\n",
    "def predict(x: np.ndarray, model) -> np.ndarray:\n",
    "    if isinstance(x, np.ndarray):\n",
    "        x = pd.DataFrame(x, columns=X_train_res.columns)\n",
    "    preds = model.predict_proba(x)\n",
    "    return np.atleast_2d(preds)\n",
    "\n",
    "def run_cem():\n",
    "    for model_name, model in get_models().items():\n",
    "        model = model()\n",
    "        model.fit(X_train_res, y_train_res)\n",
    "\n",
    "        res = []\n",
    "        test = [10, 20, 30]\n",
    "        for i in test: # size: 569\n",
    "            instance = X_test_res.iloc[i].values.reshape(1, -1)\n",
    "             #instance = X_test_res[i].reshape(1, -1)\n",
    "            original_pred = predict(instance, model).argmax(axis=1)[0]\n",
    "            original_prob = predict(instance, model)[0][original_pred]\n",
    "\n",
    "            cem_explanation = apply_cem(instance, lambda x: predict(x, model), X_train_res)\n",
    "\n",
    "            counterfactual = cem_explanation.PN if cem_explanation.PN is not None else instance\n",
    "            success = 1 if cem_explanation.PN is not None else 0\n",
    "\n",
    "            cf_pred = predict(counterfactual, model).argmax(axis=1)[0]\n",
    "            cf_prob = predict(counterfactual, model)[0][cf_pred]\n",
    "\n",
    "            row = {\n",
    "                \"model\": model_name,\n",
    "                \"success\": success,\n",
    "                \"original_pred\": original_pred,\n",
    "                \"original_prob\": original_prob,\n",
    "                \"cf_pred\": cf_pred,\n",
    "                \"cf_prob\": cf_prob,\n",
    "            }\n",
    "            diff = (counterfactual - instance)[0]\n",
    "            for j, name in enumerate(X_train_res.columns):\n",
    "                row[f\"Δ_{name}\"] = diff[j]\n",
    "\n",
    "            res.append(row)\n",
    "\n",
    "        df = pd.DataFrame(res)\n",
    "        df.to_csv(f\"cem_{model_name}_strokeprediction.csv\", index=False)\n",
    "\n"
   ],
   "id": "24b1d4f21dd43002",
   "outputs": [],
   "execution_count": 21
  },
  {
   "metadata": {
    "ExecuteTime": {
     "end_time": "2025-05-26T12:14:11.067003Z",
     "start_time": "2025-05-26T11:42:50.988512Z"
    }
   },
   "cell_type": "code",
   "source": [
    "if __name__ == \"__main__\":\n",
    "    run_cem()"
   ],
   "id": "21b805fa6ad94bd3",
   "outputs": [
    {
     "name": "stderr",
     "output_type": "stream",
     "text": [
      "No PN found!\n",
      "No PN found!\n",
      "No PN found!\n",
      "No PN found!\n",
      "No PN found!\n",
      "No PN found!\n",
      "No PN found!\n",
      "No PN found!\n",
      "No PN found!\n",
      "No PN found!\n",
      "No PN found!\n",
      "No PN found!\n",
      "No PN found!\n"
     ]
    }
   ],
   "execution_count": 22
  }
 ],
 "metadata": {
  "kernelspec": {
   "display_name": "Python 3",
   "language": "python",
   "name": "python3"
  },
  "language_info": {
   "codemirror_mode": {
    "name": "ipython",
    "version": 2
   },
   "file_extension": ".py",
   "mimetype": "text/x-python",
   "name": "python",
   "nbconvert_exporter": "python",
   "pygments_lexer": "ipython2",
   "version": "2.7.6"
  }
 },
 "nbformat": 4,
 "nbformat_minor": 5
}
