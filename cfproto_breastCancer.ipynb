{
 "cells": [
  {
   "cell_type": "code",
   "id": "initial_id",
   "metadata": {
    "collapsed": true,
    "ExecuteTime": {
     "end_time": "2025-05-27T12:34:15.338991Z",
     "start_time": "2025-05-27T12:34:15.333010Z"
    }
   },
   "source": [
    "import tensorflow as tf\n",
    "from xgboost.testing.updater import check_get_quantile_cut_device\n",
    "\n",
    "tf.compat.v1.disable_eager_execution()\n",
    "import numpy as np\n",
    "import pandas as pd\n",
    "from sklearn.datasets import load_breast_cancer\n",
    "from sklearn.model_selection import train_test_split\n",
    "from sklearn.preprocessing import StandardScaler\n",
    "import alibi\n",
    "print(alibi.__version__)\n",
    "from alibi.explainers import CounterfactualProto\n",
    "#models\n",
    "from sklearn.ensemble import RandomForestClassifier\n",
    "from sklearn import svm\n",
    "from xgboost import XGBClassifier\n",
    "from sklearn.ensemble import AdaBoostClassifier\n",
    "from sklearn.neural_network import MLPClassifier"
   ],
   "outputs": [
    {
     "name": "stdout",
     "output_type": "stream",
     "text": [
      "0.9.6\n"
     ]
    }
   ],
   "execution_count": 3
  },
  {
   "metadata": {
    "ExecuteTime": {
     "end_time": "2025-05-27T15:51:03.513977Z",
     "start_time": "2025-05-27T15:51:03.495937Z"
    }
   },
   "cell_type": "code",
   "source": [
    "dataset = load_breast_cancer()\n",
    "X = dataset.data\n",
    "y = dataset.target\n",
    "feature_names = dataset.feature_names\n",
    "\n",
    "X_train, X_test, y_train, y_test = train_test_split(X, y, test_size=0.2, random_state=42)\n",
    "\n",
    "scaler = StandardScaler()\n",
    "X_train = scaler.fit_transform(X_train)\n",
    "X_test = scaler.transform(X_test)\n",
    "\n",
    "print(f\"all values: {X.shape[0]}\")\n",
    "print(f\"training values: # stroke: {sum(y_train == 1)} and # no stroke: {sum(y_train == 0)}\")\n",
    "print(f\"testing values: # stroke: {sum(y_test == 1)} and # no stroke: {sum(y_test == 0)}\")"
   ],
   "id": "d2ed54b805dcf10c",
   "outputs": [
    {
     "name": "stdout",
     "output_type": "stream",
     "text": [
      "all values: 569\n",
      "training values: # stroke: 286 and # no stroke: 169\n",
      "testing values: # stroke: 71 and # no stroke: 43\n"
     ]
    }
   ],
   "execution_count": 34
  },
  {
   "metadata": {
    "ExecuteTime": {
     "end_time": "2025-05-27T15:25:07.092100Z",
     "start_time": "2025-05-27T15:25:07.083137Z"
    }
   },
   "cell_type": "code",
   "source": [
    "def get_models():\n",
    "    return {\n",
    "        \"RandomForest\": lambda: RandomForestClassifier(n_estimators=100, max_depth=5, random_state=42),\n",
    "        \"XGBoost\": lambda: XGBClassifier(n_estimators=2, max_depth=2, learning_rate=1, objective='binary:logistic'),\n",
    "        \"AdaBoost\": lambda: AdaBoostClassifier(n_estimators=100),\n",
    "        \"SVM\": lambda: svm.SVC(kernel='linear', probability=True, random_state=42),\n",
    "        \"MLP\": lambda: MLPClassifier(hidden_layer_sizes=(100,), activation='relu', solver='adam', max_iter=500, random_state=42)\n",
    "    }\n",
    "\n",
    "def apply_cfproto(instance: np.ndarray, predict_fn) -> np.ndarray:\n",
    "    cf = CounterfactualProto(\n",
    "        predict_fn,\n",
    "        shape=instance.shape,\n",
    "        kappa=0.1,\n",
    "        beta=0.1,\n",
    "        gamma=0,\n",
    "        theta=0,\n",
    "        max_iterations=1000, # voher 500\n",
    "        ae_model=None,\n",
    "        enc_model=None,\n",
    "        feature_range=(X_train.min(axis=0), X_train.max(axis=0)),\n",
    "        clip=(X_train.min(axis=0), X_train.max(axis=0)),\n",
    "        c_init=1.,\n",
    "        c_steps=10, # vorher 5\n",
    "        learning_rate_init=1e-2,\n",
    "        write_dir='./cf')\n",
    "\n",
    "    cf.fit(X_train, d_type='abdm', w=None, disc_perc=[25, 50, 75], standardize_cat_vars=False,\n",
    "       smooth=1., center=True, update_feature_range=True)\n",
    "    explanation = cf.explain(instance)\n",
    "    return explanation\n",
    "\n",
    "def predict(x: np.ndarray, model) -> np.ndarray:\n",
    "    preds = model.predict_proba(x)\n",
    "    return np.atleast_2d(preds)\n",
    "\n",
    "def train_models():\n",
    "    model_fns = get_models()\n",
    "    trained_models = {}\n",
    "    for name, model_fn in model_fns.items():\n",
    "        model = model_fn()\n",
    "        model.fit(X_train, y_train)\n",
    "        trained_models[name] = model\n",
    "    return trained_models\n",
    "\n",
    "def run_cfproto():\n",
    "    trained_models = train_models()\n",
    "\n",
    "    for model_name, model in trained_models.items():\n",
    "        res = []\n",
    "        test = [10, 20]\n",
    "        for i in test: # size: 114 (testing data)\n",
    "            instance = X_test[i].reshape(1, -1)\n",
    "            original_pred = predict(instance, model).argmax(axis=1)[0]\n",
    "            original_prob = predict(instance, model)[0][original_pred]\n",
    "\n",
    "            cfproto_explanation = apply_cfproto(instance, lambda x: predict(x, model))\n",
    "            data = cfproto_explanation.data\n",
    "            counterfactual = data[\"cf\"] if data.get(\"cf\") is not None else instance\n",
    "\n",
    "            if data.get(\"cf\") is not None:\n",
    "                print(\"Original prediction:\", predict(instance).argmax())\n",
    "                print(\"CF prediction      :\", predict(data[\"cf\"]).argmax())\n",
    "                print(\"Δ x                :\", data[\"cf\"] - instance)\n",
    "\n",
    "            success = 1 if data.get(\"cf\") is not None else 0\n",
    "            cf_pred = predict(counterfactual, model).argmax(axis=1)[0]\n",
    "            cf_prob = predict(counterfactual, model)[0][cf_pred]\n",
    "\n",
    "            row = {\n",
    "                \"model\": model_name,\n",
    "                \"success\": success,\n",
    "                \"original_pred\": original_pred,\n",
    "                \"original_prob\": original_prob,\n",
    "                \"cf_pred\": cf_pred,\n",
    "                \"cf_prob\": cf_prob,\n",
    "            }\n",
    "            diff = (counterfactual - instance)[0]\n",
    "            for j, name in enumerate(feature_names):\n",
    "                row[f\"Δ_{name}\"] = diff[j]\n",
    "\n",
    "            res.append(row)\n",
    "\n",
    "        df = pd.DataFrame(res)\n",
    "        df.to_csv(f\"cfproto_{model_name}_breastcancer.csv\", index=False)\n",
    "\n"
   ],
   "id": "ecb5bacbffeba70f",
   "outputs": [],
   "execution_count": 31
  },
  {
   "metadata": {
    "ExecuteTime": {
     "end_time": "2025-05-27T15:40:00.177717Z",
     "start_time": "2025-05-27T15:25:08.447807Z"
    }
   },
   "cell_type": "code",
   "source": [
    "if __name__ == \"__main__\":\n",
    "    run_cfproto()"
   ],
   "id": "4730c88959ce3792",
   "outputs": [
    {
     "name": "stderr",
     "output_type": "stream",
     "text": [
      "No counterfactual found!\n",
      "No counterfactual found!\n",
      "No counterfactual found!\n",
      "No counterfactual found!\n",
      "No counterfactual found!\n",
      "No counterfactual found!\n",
      "No counterfactual found!\n",
      "No counterfactual found!\n",
      "No counterfactual found!\n",
      "No counterfactual found!\n"
     ]
    }
   ],
   "execution_count": 32
  }
 ],
 "metadata": {
  "kernelspec": {
   "display_name": "Python 3",
   "language": "python",
   "name": "python3"
  },
  "language_info": {
   "codemirror_mode": {
    "name": "ipython",
    "version": 2
   },
   "file_extension": ".py",
   "mimetype": "text/x-python",
   "name": "python",
   "nbconvert_exporter": "python",
   "pygments_lexer": "ipython2",
   "version": "2.7.6"
  }
 },
 "nbformat": 4,
 "nbformat_minor": 5
}
