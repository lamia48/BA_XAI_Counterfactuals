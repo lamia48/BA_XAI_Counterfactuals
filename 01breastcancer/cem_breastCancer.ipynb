{
 "cells": [
  {
   "cell_type": "code",
   "id": "initial_id",
   "metadata": {
    "collapsed": true,
    "ExecuteTime": {
     "end_time": "2025-05-27T13:00:37.023875Z",
     "start_time": "2025-05-27T13:00:33.342525Z"
    }
   },
   "source": [
    "import tensorflow as tf\n",
    "tf.compat.v1.disable_eager_execution()\n",
    "import numpy as np\n",
    "import pandas as pd\n",
    "from sklearn.datasets import load_breast_cancer\n",
    "from sklearn.model_selection import train_test_split\n",
    "from sklearn.preprocessing import StandardScaler\n",
    "import alibi\n",
    "print(alibi.__version__)\n",
    "from alibi.explainers import CEM\n",
    "#models\n",
    "from sklearn.ensemble import RandomForestClassifier\n",
    "from sklearn import svm\n",
    "from xgboost import XGBClassifier\n",
    "from sklearn.ensemble import AdaBoostClassifier\n",
    "from sklearn.neural_network import MLPClassifier"
   ],
   "outputs": [
    {
     "name": "stderr",
     "output_type": "stream",
     "text": [
      "2025-05-27 15:00:33.398452: I tensorflow/core/platform/cpu_feature_guard.cc:193] This TensorFlow binary is optimized with oneAPI Deep Neural Network Library (oneDNN) to use the following CPU instructions in performance-critical operations:  AVX2 AVX512F AVX512_VNNI AVX512_BF16 FMA\n",
      "To enable them in other operations, rebuild TensorFlow with the appropriate compiler flags.\n",
      "2025-05-27 15:00:33.612383: I tensorflow/core/util/port.cc:104] oneDNN custom operations are on. You may see slightly different numerical results due to floating-point round-off errors from different computation orders. To turn them off, set the environment variable `TF_ENABLE_ONEDNN_OPTS=0`.\n",
      "2025-05-27 15:00:33.617246: W tensorflow/compiler/xla/stream_executor/platform/default/dso_loader.cc:64] Could not load dynamic library 'libcudart.so.11.0'; dlerror: libcudart.so.11.0: cannot open shared object file: No such file or directory\n",
      "2025-05-27 15:00:33.617268: I tensorflow/compiler/xla/stream_executor/cuda/cudart_stub.cc:29] Ignore above cudart dlerror if you do not have a GPU set up on your machine.\n",
      "2025-05-27 15:00:34.278248: W tensorflow/compiler/xla/stream_executor/platform/default/dso_loader.cc:64] Could not load dynamic library 'libnvinfer.so.7'; dlerror: libnvinfer.so.7: cannot open shared object file: No such file or directory\n",
      "2025-05-27 15:00:34.278310: W tensorflow/compiler/xla/stream_executor/platform/default/dso_loader.cc:64] Could not load dynamic library 'libnvinfer_plugin.so.7'; dlerror: libnvinfer_plugin.so.7: cannot open shared object file: No such file or directory\n",
      "2025-05-27 15:00:34.278315: W tensorflow/compiler/tf2tensorrt/utils/py_utils.cc:38] TF-TRT Warning: Cannot dlopen some TensorRT libraries. If you would like to use Nvidia GPU with TensorRT, please make sure the missing libraries mentioned above are installed properly.\n",
      "2025-05-27 15:00:36.385493: W tensorflow/compiler/xla/stream_executor/platform/default/dso_loader.cc:64] Could not load dynamic library 'libcuda.so.1'; dlerror: libcuda.so.1: cannot open shared object file: No such file or directory\n",
      "2025-05-27 15:00:36.385509: W tensorflow/compiler/xla/stream_executor/cuda/cuda_driver.cc:265] failed call to cuInit: UNKNOWN ERROR (303)\n",
      "2025-05-27 15:00:36.385522: I tensorflow/compiler/xla/stream_executor/cuda/cuda_diagnostics.cc:156] kernel driver does not appear to be running on this host (aspire15): /proc/driver/nvidia/version does not exist\n"
     ]
    },
    {
     "name": "stdout",
     "output_type": "stream",
     "text": [
      "0.9.6\n"
     ]
    },
    {
     "name": "stderr",
     "output_type": "stream",
     "text": [
      "/home/lharms/PycharmProjects/BA/.venv/lib/python3.8/site-packages/tqdm/auto.py:21: TqdmWarning: IProgress not found. Please update jupyter and ipywidgets. See https://ipywidgets.readthedocs.io/en/stable/user_install.html\n",
      "  from .autonotebook import tqdm as notebook_tqdm\n"
     ]
    }
   ],
   "execution_count": 1
  },
  {
   "metadata": {
    "ExecuteTime": {
     "end_time": "2025-05-27T13:00:42.851688Z",
     "start_time": "2025-05-27T13:00:42.839813Z"
    }
   },
   "cell_type": "code",
   "source": [
    "dataset = load_breast_cancer()\n",
    "X = dataset.data\n",
    "y = dataset.target\n",
    "feature_names = dataset.feature_names\n",
    "\n",
    "X_train, X_test, y_train, y_test = train_test_split(X, y, test_size=0.2, random_state=42)\n",
    "\n",
    "scaler = StandardScaler()\n",
    "X_train = scaler.fit_transform(X_train)\n",
    "X_test = scaler.transform(X_test)"
   ],
   "id": "c2d0a75ab307f5d2",
   "outputs": [],
   "execution_count": 2
  },
  {
   "metadata": {
    "ExecuteTime": {
     "end_time": "2025-05-27T13:01:55.429234Z",
     "start_time": "2025-05-27T13:01:55.416425Z"
    }
   },
   "cell_type": "code",
   "source": [
    "def get_models():\n",
    "    return {\n",
    "        \"RandomForest\": lambda: RandomForestClassifier(n_estimators=100, max_depth=5, random_state=42),\n",
    "        \"XGBoost\": lambda: XGBClassifier(n_estimators=2, max_depth=2, learning_rate=1, objective='binary:logistic'),\n",
    "        \"AdaBoost\": lambda: AdaBoostClassifier(n_estimators=100),\n",
    "        \"SVM\": lambda: svm.SVC(kernel='linear', probability=True, random_state=42),\n",
    "        \"MLP\": lambda: MLPClassifier(hidden_layer_sizes=(100,), activation='relu', solver='adam', max_iter=500, random_state=42)\n",
    "    }\n",
    "\n",
    "def apply_cem(instance: np.ndarray, predict_fn, X_train) -> np.ndarray:\n",
    "    cem = CEM(\n",
    "        predict_fn,\n",
    "        mode='PN',\n",
    "        shape=instance.shape,\n",
    "        kappa=0.2,\n",
    "        beta=0.01,\n",
    "        gamma=0.0,\n",
    "        c_init=10.0,\n",
    "        c_steps=10,\n",
    "        max_iterations=1000,\n",
    "        feature_range=(X_train.min(axis=0), X_train.max(axis=0)),\n",
    "        clip=(X_train.min(axis=0), X_train.max(axis=0)),\n",
    "        learning_rate_init=1e-2\n",
    "    )\n",
    "    cem.fit(instance)\n",
    "    explanation = cem.explain(instance)\n",
    "\n",
    "    return explanation\n",
    "\n",
    "def predict(x: np.ndarray, model) -> np.ndarray:\n",
    "    preds = model.predict_proba(x)\n",
    "    return np.atleast_2d(preds)\n",
    "\n",
    "def train_models():\n",
    "    model_fns = get_models()\n",
    "    trained_models = {}\n",
    "    for name, model_fn in model_fns.items():\n",
    "        model = model_fn()\n",
    "        model.fit(X_train, y_train)\n",
    "        trained_models[name] = model\n",
    "    return trained_models\n",
    "\n",
    "def run_cem():\n",
    "    trained_models = train_models()\n",
    "\n",
    "    for model_name, model in trained_models.items():\n",
    "        res = []\n",
    "        test = [10, 20, 30]\n",
    "        for i in test: # size: 569\n",
    "            instance = X_test[i].reshape(1, -1)\n",
    "            original_pred = predict(instance, model).argmax(axis=1)[0]\n",
    "            original_prob = predict(instance, model)[0][original_pred]\n",
    "\n",
    "            cem_explanation = apply_cem(instance, lambda x: predict(x, model), X_train)\n",
    "\n",
    "            counterfactual = cem_explanation.PN if cem_explanation.PN is not None else instance\n",
    "            success = 1 if cem_explanation.PN is not None else 0\n",
    "\n",
    "            cf_pred = predict(counterfactual, model).argmax(axis=1)[0]\n",
    "            cf_prob = predict(counterfactual, model)[0][cf_pred]\n",
    "\n",
    "            row = {\n",
    "                \"model\": model_name,\n",
    "                \"success\": success,\n",
    "                \"original_pred\": original_pred,\n",
    "                \"original_prob\": original_prob,\n",
    "                \"cf_pred\": cf_pred,\n",
    "                \"cf_prob\": cf_prob,\n",
    "            }\n",
    "            diff = (counterfactual - instance)[0]\n",
    "            for j, name in enumerate(feature_names):\n",
    "                row[f\"Δ_{name}\"] = diff[j]\n",
    "\n",
    "            res.append(row)\n",
    "\n",
    "        df = pd.DataFrame(res)\n",
    "        df.to_csv(f\"cem_{model_name}_breastcancer.csv\", index=False)\n",
    "\n"
   ],
   "id": "ba32cb323febdbdc",
   "outputs": [],
   "execution_count": 5
  },
  {
   "metadata": {
    "ExecuteTime": {
     "end_time": "2025-05-27T13:25:52.288288Z",
     "start_time": "2025-05-27T13:01:57.318816Z"
    }
   },
   "cell_type": "code",
   "source": [
    "if __name__ == \"__main__\":\n",
    "    run_cem()"
   ],
   "id": "82b702da1f36fced",
   "outputs": [
    {
     "name": "stdout",
     "output_type": "stream",
     "text": [
      "WARNING:tensorflow:From /home/lharms/PycharmProjects/BA/.venv/lib/python3.8/site-packages/alibi/explainers/cem.py:95: The name tf.keras.backend.get_session is deprecated. Please use tf.compat.v1.keras.backend.get_session instead.\n",
      "\n"
     ]
    },
    {
     "name": "stderr",
     "output_type": "stream",
     "text": [
      "2025-05-27 15:01:58.516669: I tensorflow/core/platform/cpu_feature_guard.cc:193] This TensorFlow binary is optimized with oneAPI Deep Neural Network Library (oneDNN) to use the following CPU instructions in performance-critical operations:  AVX2 AVX512F AVX512_VNNI AVX512_BF16 FMA\n",
      "To enable them in other operations, rebuild TensorFlow with the appropriate compiler flags.\n",
      "2025-05-27 15:01:58.595637: I tensorflow/compiler/mlir/mlir_graph_optimization_pass.cc:357] MLIR V1 optimization pass is not enabled\n",
      "No PN found!\n",
      "No PN found!\n",
      "No PN found!\n",
      "No PN found!\n",
      "No PN found!\n",
      "No PN found!\n",
      "No PN found!\n",
      "No PN found!\n",
      "No PN found!\n"
     ]
    }
   ],
   "execution_count": 6
  }
 ],
 "metadata": {
  "kernelspec": {
   "display_name": "Python 3",
   "language": "python",
   "name": "python3"
  },
  "language_info": {
   "codemirror_mode": {
    "name": "ipython",
    "version": 2
   },
   "file_extension": ".py",
   "mimetype": "text/x-python",
   "name": "python",
   "nbconvert_exporter": "python",
   "pygments_lexer": "ipython2",
   "version": "2.7.6"
  }
 },
 "nbformat": 4,
 "nbformat_minor": 5
}
